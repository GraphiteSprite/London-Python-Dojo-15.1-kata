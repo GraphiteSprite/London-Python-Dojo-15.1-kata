{
 "cells": [
  {
   "cell_type": "markdown",
   "id": "3e3fa1d0-7d65-4ab3-8c45-16c5fe8a7df7",
   "metadata": {},
   "source": [
    "# London Python Dojo - ASCII art"
   ]
  },
  {
   "cell_type": "markdown",
   "id": "ace619d7-2f2e-41f1-b8f0-a2867b9e1984",
   "metadata": {},
   "source": [
    "## Write a Python program which converts an image into an ASCII image."
   ]
  },
  {
   "cell_type": "code",
   "execution_count": null,
   "id": "c139cab6-a4ae-4270-b240-0c8c7eb26a82",
   "metadata": {},
   "outputs": [],
   "source": [
    "pip install Pillow\n"
   ]
  },
  {
   "cell_type": "code",
   "execution_count": null,
   "id": "c80d1e34-41d2-410d-9e1f-289ab78cfc63",
   "metadata": {},
   "outputs": [],
   "source": [
    "from PIL import Image\n",
    "\n",
    "# ASCII characters used for the image representation\n",
    "ASCII_CHARS = ['@', '#', 'S', '%', '?', '*', '+', ';', ':', ',', '.']\n",
    "\n",
    "# Resize image\n",
    "def resize_image(image, new_width=100):\n",
    "    width, height = image.size\n",
    "    aspect_ratio = height / width\n",
    "    new_height = int(aspect_ratio * new_width)\n",
    "    resized_image = image.resize((new_width, new_height))\n",
    "    return resized_image\n",
    "\n",
    "# Convert image to grayscale\n",
    "def grayscale_image(image):\n",
    "    return image.convert(\"L\")\n",
    "\n",
    "# Map grayscale pixel value to ASCII character\n",
    "def pixel_to_ascii(pixel_value):\n",
    "    return ASCII_CHARS[pixel_value // 25]\n",
    "\n",
    "# Convert image to ASCII art\n",
    "def image_to_ascii(image):\n",
    "    image = resize_image(image)\n",
    "    image = grayscale_image(image)\n",
    "    \n",
    "    ascii_str = ''\n",
    "    for y in range(image.height):\n",
    "        for x in range(image.width):\n",
    "            pixel_value = image.getpixel((x, y))\n",
    "            ascii_str += pixel_to_ascii(pixel_value)\n",
    "        ascii_str += '\\n'\n",
    "\n",
    "    return ascii_str\n",
    "\n",
    "# Save ASCII art to a text file\n",
    "def save_ascii_to_file(ascii_str, filename=\"ascii_image.txt\"):\n",
    "    with open(filename, 'w') as file:\n",
    "        file.write(ascii_str)\n",
    "\n",
    "# Main function\n",
    "def main(image_path):\n",
    "    try:\n",
    "        # Open the image\n",
    "        image = Image.open(image_path)\n",
    "    except Exception as e:\n",
    "        print(f\"Error opening image: {e}\")\n",
    "        return\n",
    "    \n",
    "    ascii_str = image_to_ascii(image)\n",
    "    save_ascii_to_file(ascii_str)\n",
    "    print(f\"ASCII art saved to 'ascii_image.txt'\")\n",
    "\n",
    "if __name__ == \"__main__\":\n",
    "    image_path = input(\"Enter the path of the image: \")\n",
    "    main(image_path)\n"
   ]
  },
  {
   "cell_type": "markdown",
   "id": "48520f16-0e5a-44dd-9a48-4ea1d789e4c9",
   "metadata": {},
   "source": [
    "## Write a Python program which converts an image into an ASCII image. Input parameters are path to the file and the number of horizontal and vertical characters in the output"
   ]
  },
  {
   "cell_type": "code",
   "execution_count": null,
   "id": "5da6c8a5-106a-42e3-b32c-92e0053a7bea",
   "metadata": {},
   "outputs": [],
   "source": [
    "from PIL import Image\n",
    "import sys\n",
    "\n",
    "def image_to_ascii(image_path, width, height):\n",
    "    ASCII_CHARS = \"@%#*+=-:. \"  # Characters from dense to light\n",
    "    \n",
    "    try:\n",
    "        image = Image.open(image_path)\n",
    "    except Exception as e:\n",
    "        print(f\"Error: {e}\")\n",
    "        return\n",
    "    \n",
    "    image = image.resize((width, height))  # Resize image to fit output dimensions\n",
    "    image = image.convert('L')  # Convert to grayscale\n",
    "    \n",
    "    pixels = image.getdata()\n",
    "    ascii_str = \"\".join(ASCII_CHARS[pixel // 25] for pixel in pixels)\n",
    "    \n",
    "    ascii_image = \"\\n\".join(ascii_str[i:i+width] for i in range(0, len(ascii_str), width))\n",
    "    \n",
    "    print(ascii_image)\n",
    "    return ascii_image\n",
    "\n",
    "if __name__ == \"__main__\":\n",
    "    if len(sys.argv) != 4:\n",
    "        print(\"Usage: python image_to_ascii.py <image_path> <width> <height>\")\n",
    "    else:\n",
    "        image_path = sys.argv[1]\n",
    "        width = int(sys.argv[2])\n",
    "        height = int(sys.argv[3])\n",
    "        image_to_ascii(image_path, width, height)\n"
   ]
  },
  {
   "cell_type": "code",
   "execution_count": null,
   "id": "6c9c2cdf-d611-4596-9e8d-63e1ef96298a",
   "metadata": {},
   "outputs": [],
   "source": [
    "# Modify for a jupyter notebook\n"
   ]
  },
  {
   "cell_type": "code",
   "execution_count": null,
   "id": "cf27ff8e-c776-4ee8-9e99-2cd3067129ea",
   "metadata": {},
   "outputs": [],
   "source": [
    "from PIL import Image\n",
    "\n",
    "def image_to_ascii(image_path, width, height):\n",
    "    ASCII_CHARS = \"@%#*+=-:. \"  # Characters from dense to light\n",
    "    \n",
    "    try:\n",
    "        image = Image.open(image_path)\n",
    "    except Exception as e:\n",
    "        print(f\"Error: {e}\")\n",
    "        return\n",
    "    \n",
    "    image = image.resize((width, height))  # Resize image to fit output dimensions\n",
    "    image = image.convert('L')  # Convert to grayscale\n",
    "    \n",
    "    pixels = image.getdata()\n",
    "    ascii_str = \"\".join(ASCII_CHARS[pixel // 25] for pixel in pixels)\n",
    "    \n",
    "    ascii_image = \"\\n\".join(ascii_str[i:i+width] for i in range(0, len(ascii_str), width))\n",
    "    \n",
    "    return ascii_image\n",
    "\n",
    "# Usage in a Jupyter Notebook\n",
    "def display_ascii(image_path, width, height):\n",
    "    ascii_art = image_to_ascii(image_path, width, height)\n",
    "    print(ascii_art)\n",
    "\n",
    "# Example usage in a Jupyter Notebook\n",
    "# display_ascii(\"path_to_image.jpg\", 100, 50)\n"
   ]
  },
  {
   "cell_type": "code",
   "execution_count": null,
   "id": "3adef879-9a3f-42c2-a89b-87a4da5e8901",
   "metadata": {},
   "outputs": [],
   "source": [
    "image_path = 'download.jpg'\n",
    "width = 100\n",
    "height = 100\n",
    "display_ascii(image_path, width, height)\n"
   ]
  },
  {
   "cell_type": "markdown",
   "id": "b9652637-8976-448b-9f3c-1a02b1a2a930",
   "metadata": {},
   "source": [
    "## Third attempt"
   ]
  },
  {
   "cell_type": "markdown",
   "id": "3cf147cc-93a9-48ed-a074-dafd97f7bbc8",
   "metadata": {},
   "source": [
    "The code you generated throws \"IndexError: string index out of range\". Fix it please"
   ]
  },
  {
   "cell_type": "code",
   "execution_count": null,
   "id": "c365263a-b6b1-4cc3-b527-1af1fe384e99",
   "metadata": {},
   "outputs": [],
   "source": [
    "from PIL import Image\n",
    "\n",
    "def image_to_ascii(image_path, width, height):\n",
    "    ASCII_CHARS = \"@%#*+=-:. \"  # Characters from dense to light\n",
    "    \n",
    "    try:\n",
    "        image = Image.open(image_path)\n",
    "    except Exception as e:\n",
    "        print(f\"Error: {e}\")\n",
    "        return\n",
    "    \n",
    "    image = image.resize((width, height))  # Resize image to fit output dimensions\n",
    "    image = image.convert('L')  # Convert to grayscale\n",
    "    \n",
    "    pixels = image.getdata()\n",
    "    ascii_str = \"\".join(ASCII_CHARS[min(pixel // (256 // len(ASCII_CHARS)), len(ASCII_CHARS) - 1)] for pixel in pixels)\n",
    "    \n",
    "    ascii_image = \"\\n\".join(ascii_str[i:i+width] for i in range(0, len(ascii_str), width))\n",
    "    \n",
    "    return ascii_image\n",
    "\n",
    "# Usage in a Jupyter Notebook\n",
    "def display_ascii(image_path, width, height):\n",
    "    ascii_art = image_to_ascii(image_path, width, height)\n",
    "    print(ascii_art)\n",
    "\n",
    "# Example usage in a Jupyter Notebook\n",
    "# display_ascii(\"path_to_image.jpg\", 100, 50)\n"
   ]
  },
  {
   "cell_type": "markdown",
   "id": "1b5ee124-68a6-4d33-8f0e-b7df1c8bef2b",
   "metadata": {},
   "source": [
    "Give me code or a jupyter command to display my image"
   ]
  },
  {
   "cell_type": "code",
   "execution_count": null,
   "id": "93b9e9fb-e82a-4d69-8b49-d7e5fe8ee1e6",
   "metadata": {},
   "outputs": [],
   "source": [
    "from IPython.display import display\n",
    "from PIL import Image\n",
    "\n",
    "def show_image(image_path):\n",
    "    image = Image.open(image_path)\n",
    "    display(image)\n",
    "\n",
    "# Example usage\n",
    "# show_image(\"path_to_image.jpg\")\n"
   ]
  },
  {
   "cell_type": "code",
   "execution_count": null,
   "id": "63fe5a14-e7eb-419b-8334-94355011320a",
   "metadata": {},
   "outputs": [],
   "source": [
    "display_ascii(\"download.jpg\", 60, 30), show_image('download.jpg')"
   ]
  },
  {
   "cell_type": "code",
   "execution_count": null,
   "id": "5ef8479d-bc6a-4afb-9b50-e450f330ca8a",
   "metadata": {},
   "outputs": [],
   "source": [
    "# input = 'https://upload.wikimedia.org/wikipedia/commons/6/6a/Mona_Lisa.jpg'\n",
    "input = 'Mona_Lisa.jpg'\n",
    "display_ascii(input, 60, 30), show_image(input)"
   ]
  },
  {
   "cell_type": "code",
   "execution_count": null,
   "id": "f7aba9b6-e794-46d5-9781-e091528c214f",
   "metadata": {},
   "outputs": [],
   "source": [
    "from PIL import Image\n",
    "import string\n",
    "\n",
    "def image_to_ascii(image_path, width, height):\n",
    "    ASCII_CHARS = string.printable[:-6]  # Full printable ASCII set excluding control characters\n",
    "    \n",
    "    try:\n",
    "        image = Image.open(image_path)\n",
    "    except Exception as e:\n",
    "        print(f\"Error: {e}\")\n",
    "        return\n",
    "    \n",
    "    image = image.resize((width, height))  # Resize image to fit output dimensions\n",
    "    image = image.convert('L')  # Convert to grayscale\n",
    "    \n",
    "    pixels = image.getdata()\n",
    "    ascii_str = \"\".join(ASCII_CHARS[min(pixel * len(ASCII_CHARS) // 256, len(ASCII_CHARS) - 1)] for pixel in pixels)\n",
    "    \n",
    "    ascii_image = \"\\n\".join(ascii_str[i:i+width] for i in range(0, len(ascii_str), width))\n",
    "    \n",
    "    return ascii_image\n",
    "\n",
    "# Usage in a Jupyter Notebook\n",
    "def display_ascii(image_path, width, height):\n",
    "    ascii_art = image_to_ascii(image_path, width, height)\n",
    "    print(ascii_art)\n",
    "\n",
    "# Example usage in a Jupyter Notebook\n",
    "# display_ascii(\"path_to_image.jpg\", 100, 50)\n"
   ]
  },
  {
   "cell_type": "code",
   "execution_count": null,
   "id": "9e22e5ad-4a5f-4adf-9fc7-67f2d7e68cb9",
   "metadata": {},
   "outputs": [],
   "source": [
    "display_ascii(\"download.jpg\", 60, 30), show_image('download.jpg')"
   ]
  },
  {
   "cell_type": "markdown",
   "id": "9df44217-31aa-4879-b614-72a086885c31",
   "metadata": {},
   "source": [
    "That looks terrible because the grayscale of the characters you choose are wrong. Try again!"
   ]
  },
  {
   "cell_type": "markdown",
   "id": "50dce2aa-baad-4627-93e3-8131ca1e576f",
   "metadata": {},
   "source": [
    "I've modified the code to display ASCII art with color in a Jupyter Notebook. Now, it preserves the original colors using HTML and CSS. Let me know if you need further refinements!"
   ]
  },
  {
   "cell_type": "code",
   "execution_count": null,
   "id": "80365a7e-935d-48e0-91c8-bfd9a813a004",
   "metadata": {},
   "outputs": [],
   "source": [
    "from PIL import Image\n",
    "import string\n",
    "from IPython.display import display, HTML\n",
    "\n",
    "def image_to_ascii(image_path, width, height):\n",
    "    ASCII_CHARS = \"@%#*+=-:. \"  # Adjusted grayscale ASCII character set from dark to light\n",
    "    \n",
    "    try:\n",
    "        image = Image.open(image_path)\n",
    "    except Exception as e:\n",
    "        print(f\"Error: {e}\")\n",
    "        return\n",
    "    \n",
    "    image = image.resize((width, height))  # Resize image to fit output dimensions\n",
    "    image = image.convert('RGB')  # Convert to RGB to extract color values\n",
    "    \n",
    "    pixels = list(image.getdata())\n",
    "    ascii_image = \"\"\n",
    "    \n",
    "    for i in range(height):\n",
    "        row = \"\"\n",
    "        for j in range(width):\n",
    "            r, g, b = pixels[i * width + j]\n",
    "            grayscale = int((r + g + b) / 3)\n",
    "            char = ASCII_CHARS[min(grayscale * len(ASCII_CHARS) // 256, len(ASCII_CHARS) - 1)]\n",
    "            row += f'<span style=\"color: rgb({r},{g},{b})\">{char}</span>'\n",
    "        ascii_image += row + \"<br>\"\n",
    "    \n",
    "    return ascii_image\n",
    "\n",
    "# Usage in a Jupyter Notebook\n",
    "def display_ascii(image_path, width, height):\n",
    "    ascii_art = image_to_ascii(image_path, width, height)\n",
    "    display(HTML(f'<pre style=\"font-family: monospace; line-height: 6px\">{ascii_art}</pre>'))\n",
    "\n",
    "# Example usage in a Jupyter Notebook\n",
    "# display_ascii(\"path_to_image.jpg\", 100, 50)\n"
   ]
  },
  {
   "cell_type": "code",
   "execution_count": null,
   "id": "c2f3002e-024a-4b87-a35b-1bda20451678",
   "metadata": {},
   "outputs": [],
   "source": [
    "image = \"download.jpg\"\n",
    "display_ascii(image, 50, 60), show_image(image)"
   ]
  },
  {
   "cell_type": "code",
   "execution_count": null,
   "id": "0d0d2d95-eaf3-4969-98d0-fc6e434eb5fc",
   "metadata": {},
   "outputs": [],
   "source": [
    "image = \"Mona_Lisa.jpg\"\n",
    "display_ascii(image, 25, 35), show_image(image)"
   ]
  },
  {
   "cell_type": "code",
   "execution_count": null,
   "id": "bd894013-e24a-4fee-aed4-0b225e57d45b",
   "metadata": {},
   "outputs": [],
   "source": []
  }
 ],
 "metadata": {
  "kernelspec": {
   "display_name": "Python 3 (ipykernel)",
   "language": "python",
   "name": "python3"
  },
  "language_info": {
   "codemirror_mode": {
    "name": "ipython",
    "version": 3
   },
   "file_extension": ".py",
   "mimetype": "text/x-python",
   "name": "python",
   "nbconvert_exporter": "python",
   "pygments_lexer": "ipython3",
   "version": "3.12.1"
  }
 },
 "nbformat": 4,
 "nbformat_minor": 5
}
